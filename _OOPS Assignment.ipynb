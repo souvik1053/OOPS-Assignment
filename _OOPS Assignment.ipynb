{
 "cells": [
  {
   "cell_type": "markdown",
   "id": "ac22d750-750e-4820-acf7-201ce2ed2651",
   "metadata": {},
   "source": [
    "### Explain Class and Object with respect to Object-Oriented Programming. Give a suitable example."
   ]
  },
  {
   "cell_type": "markdown",
   "id": "1d060453-9564-42b0-9175-8cf2e266985b",
   "metadata": {},
   "source": [
    "A Class is like an object constructor, or a \"blueprint\" for creating objects."
   ]
  },
  {
   "cell_type": "markdown",
   "id": "d29c89fa-2f1f-4a85-8d48-8c6757d92bee",
   "metadata": {},
   "source": [
    "EX:- Create a class named MyClass, with a property named x:"
   ]
  },
  {
   "cell_type": "code",
   "execution_count": 1,
   "id": "cedfd6d2-069d-41fc-89cd-95666c75530b",
   "metadata": {},
   "outputs": [],
   "source": [
    "class Myclass:\n",
    "    x=5"
   ]
  },
  {
   "cell_type": "markdown",
   "id": "378b5c05-ce6c-4758-a7be-926105277866",
   "metadata": {},
   "source": [
    "EX:- Create an object named p1, and print the value of x:"
   ]
  },
  {
   "cell_type": "code",
   "execution_count": 2,
   "id": "851065be-0784-4aa2-8d3b-49d5d0cb3f4f",
   "metadata": {},
   "outputs": [
    {
     "data": {
      "text/plain": [
       "5"
      ]
     },
     "execution_count": 2,
     "metadata": {},
     "output_type": "execute_result"
    }
   ],
   "source": [
    "p1=Myclass()\n",
    "p1.x"
   ]
  },
  {
   "cell_type": "code",
   "execution_count": null,
   "id": "d4ffe05a-c59b-421a-8a40-35f77fbd77fd",
   "metadata": {},
   "outputs": [],
   "source": []
  },
  {
   "cell_type": "markdown",
   "id": "199237cc-d0a1-4876-93fd-ede6659b9fe4",
   "metadata": {},
   "source": [
    "### Name the four pillars of OOPs."
   ]
  },
  {
   "cell_type": "markdown",
   "id": "d0f7e337-7f27-4ab4-a829-f319de677689",
   "metadata": {},
   "source": [
    "The four pillars of OOPS are Inheritance, Polymorphism, Encapsulation and Abstraction."
   ]
  },
  {
   "cell_type": "code",
   "execution_count": null,
   "id": "04b31bc1-8501-4d75-908e-b2a7ea74ff95",
   "metadata": {},
   "outputs": [],
   "source": []
  },
  {
   "cell_type": "markdown",
   "id": "60f94236-9cd4-4382-b2c5-1fb0828cfb90",
   "metadata": {},
   "source": [
    "### Explain why the __init__() function is used. Give a suitable example."
   ]
  },
  {
   "cell_type": "markdown",
   "id": "ab3eb18f-f74d-46d6-940b-cf4ed8e5530a",
   "metadata": {},
   "source": [
    " the __init__ method would assign its initial value to self. attribute1, It is important to note that the __init__ method is optional, but it is typically used in most classes to ensure that objects are properly initialized with the necessary attributes. The __init__() function is called automatically every time the class is being used to create a new object."
   ]
  },
  {
   "cell_type": "markdown",
   "id": "b543cdd6-efc9-4c56-9f0d-86ad7a25b9a8",
   "metadata": {},
   "source": [
    "Example:-"
   ]
  },
  {
   "cell_type": "markdown",
   "id": "45ba2827-33df-41ae-91bb-01ee1955161f",
   "metadata": {},
   "source": [
    "class person:\n",
    "    def __init__(self,name,age):\n",
    "        self.name=name\n",
    "        self.age=age"
   ]
  },
  {
   "cell_type": "code",
   "execution_count": 15,
   "id": "21b45d35-785b-4eb2-a089-a86a5f8191c8",
   "metadata": {},
   "outputs": [],
   "source": [
    " p1=person(\"rick\",23)"
   ]
  },
  {
   "cell_type": "code",
   "execution_count": 16,
   "id": "f93ee232-d514-4c96-8235-ae36cb6187cd",
   "metadata": {},
   "outputs": [
    {
     "data": {
      "text/plain": [
       "'rick'"
      ]
     },
     "execution_count": 16,
     "metadata": {},
     "output_type": "execute_result"
    }
   ],
   "source": [
    "p1.name"
   ]
  },
  {
   "cell_type": "code",
   "execution_count": null,
   "id": "a5ebf678-3a9f-4eff-885c-b75f20832872",
   "metadata": {},
   "outputs": [],
   "source": []
  },
  {
   "cell_type": "markdown",
   "id": "7fc1cbe7-169a-4948-9c9b-6e20d1e93cb7",
   "metadata": {},
   "source": [
    "### Why self is used in OOPs?"
   ]
  },
  {
   "cell_type": "markdown",
   "id": "1d918c1f-e566-41c1-ae00-9aa48cd57d2c",
   "metadata": {},
   "source": [
    "The use of “self” is fundamental to object-oriented programming in Python. In OOP, objects are created from classes, and “self” is used to refer to the specific instance of the class being manipulated"
   ]
  },
  {
   "cell_type": "code",
   "execution_count": null,
   "id": "9c460721-bc4b-49ae-a5ea-887ce3cdaaea",
   "metadata": {},
   "outputs": [],
   "source": []
  },
  {
   "cell_type": "markdown",
   "id": "40afd508-e7e5-4800-80d9-46fdc5cc1f0f",
   "metadata": {},
   "source": [
    "### What is inheritance? Give an example for each type of inheritance."
   ]
  },
  {
   "cell_type": "markdown",
   "id": "21db6c51-a3fe-460c-baab-5b361fc0d9b5",
   "metadata": {},
   "source": [
    "Inheritance is a method through which one class inherits the properties from its parent class. Inheritance is a feature in which one new class is derived from the existing ones. The new class derived is termed a derived class, and the current class is termed a Parent or base class."
   ]
  },
  {
   "cell_type": "markdown",
   "id": "aacd4d93-2ef1-432b-b81a-89e08320cc51",
   "metadata": {},
   "source": [
    "There is 5 type of inheritance :- \n",
    "1. Single \n",
    "2. Multiple\n",
    "3. Multilevel\n",
    "4. Hybrid \n",
    "5. Hierarchical"
   ]
  },
  {
   "cell_type": "code",
   "execution_count": 24,
   "id": "d858bb22-76ad-4120-82aa-6bf21a5f0012",
   "metadata": {},
   "outputs": [],
   "source": [
    "## Single Inheritance:-\n",
    "\n",
    "class parent:\n",
    "    def test_parent(self):\n",
    "        print(\"my name is souvik\")"
   ]
  },
  {
   "cell_type": "code",
   "execution_count": 25,
   "id": "f2ecb175-de8a-4f02-936e-f1712ef6d971",
   "metadata": {},
   "outputs": [],
   "source": [
    "class child(parent):\n",
    "    pass"
   ]
  },
  {
   "cell_type": "code",
   "execution_count": 27,
   "id": "b918b0b4-26b0-4d3a-b91e-7633551f976f",
   "metadata": {},
   "outputs": [
    {
     "name": "stdout",
     "output_type": "stream",
     "text": [
      "my name is souvik\n"
     ]
    }
   ],
   "source": [
    "p1= child()\n",
    "p1.test_parent()"
   ]
  },
  {
   "cell_type": "code",
   "execution_count": 32,
   "id": "e15951df-487f-4780-9b1a-466f27d51209",
   "metadata": {},
   "outputs": [],
   "source": [
    "## multilevel Inheritance:-\n",
    "\n",
    "class class1:\n",
    "    def test_class1(self):\n",
    "        print(\"This is class1\")"
   ]
  },
  {
   "cell_type": "code",
   "execution_count": 33,
   "id": "6dab847a-8750-4621-8514-1a997dea4c9e",
   "metadata": {},
   "outputs": [],
   "source": [
    "class class2(class1):\n",
    "    def test_class2(self):\n",
    "        print(\"This is class2\")"
   ]
  },
  {
   "cell_type": "code",
   "execution_count": 34,
   "id": "ee3bf82b-9409-4a68-ab7b-1f9dd22dc4dc",
   "metadata": {},
   "outputs": [],
   "source": [
    "class class3(class2):\n",
    "    def test_class3(self):\n",
    "        print(\"This is class3\")"
   ]
  },
  {
   "cell_type": "code",
   "execution_count": 35,
   "id": "e0a0c9cb-d83c-4fc1-bdc2-f1c4f1f698c0",
   "metadata": {},
   "outputs": [],
   "source": [
    "p1=class3()"
   ]
  },
  {
   "cell_type": "code",
   "execution_count": 36,
   "id": "921b6e5f-f6fd-41cd-8cd3-d516c004c306",
   "metadata": {},
   "outputs": [
    {
     "name": "stdout",
     "output_type": "stream",
     "text": [
      "This is class1\n"
     ]
    }
   ],
   "source": [
    "p1.test_class1()"
   ]
  },
  {
   "cell_type": "code",
   "execution_count": 37,
   "id": "f4707c20-3f73-44e2-8eb9-c2d6611bec64",
   "metadata": {},
   "outputs": [
    {
     "name": "stdout",
     "output_type": "stream",
     "text": [
      "This is class2\n"
     ]
    }
   ],
   "source": [
    "p1.test_class2()"
   ]
  },
  {
   "cell_type": "code",
   "execution_count": 38,
   "id": "1f15c8a4-2845-4654-bad5-85d1c15ba1eb",
   "metadata": {},
   "outputs": [],
   "source": [
    "## Multiple Inheritance:-\n",
    "\n",
    "class class1:\n",
    "    def test_class1(self):\n",
    "        print(\"This is class1\")\n"
   ]
  },
  {
   "cell_type": "code",
   "execution_count": 39,
   "id": "1a9de049-3f0e-4867-b505-da666f7cf762",
   "metadata": {},
   "outputs": [],
   "source": [
    "class class2:\n",
    "    def test_class2(self):\n",
    "        print(\"This is class2\")"
   ]
  },
  {
   "cell_type": "code",
   "execution_count": 40,
   "id": "e2a2d128-3304-4045-82ca-4d560e310e39",
   "metadata": {},
   "outputs": [],
   "source": [
    "class class3(class1,class2):\n",
    "    pass"
   ]
  },
  {
   "cell_type": "code",
   "execution_count": 41,
   "id": "a0cc1573-4fda-44d4-8ac0-1bd7c7f6cb96",
   "metadata": {},
   "outputs": [],
   "source": [
    "p1=class3()"
   ]
  },
  {
   "cell_type": "code",
   "execution_count": 42,
   "id": "b7359817-7f8f-489d-a92c-44254a38d764",
   "metadata": {},
   "outputs": [
    {
     "name": "stdout",
     "output_type": "stream",
     "text": [
      "This is class2\n"
     ]
    }
   ],
   "source": [
    "p1.test_class2()"
   ]
  },
  {
   "cell_type": "code",
   "execution_count": 43,
   "id": "be7f6e07-82ae-47ad-8a02-326f12f2c8cc",
   "metadata": {},
   "outputs": [
    {
     "name": "stdout",
     "output_type": "stream",
     "text": [
      "This is class1\n"
     ]
    }
   ],
   "source": [
    "p1.test_class1()"
   ]
  },
  {
   "cell_type": "code",
   "execution_count": null,
   "id": "ecedba5d-5277-4f52-9702-c823ef75d691",
   "metadata": {},
   "outputs": [],
   "source": []
  },
  {
   "cell_type": "code",
   "execution_count": null,
   "id": "a0202536-7228-46ca-9227-75de53d689da",
   "metadata": {},
   "outputs": [],
   "source": []
  },
  {
   "cell_type": "code",
   "execution_count": null,
   "id": "8abca97f-1d4c-438a-9ab5-617773645909",
   "metadata": {},
   "outputs": [],
   "source": []
  },
  {
   "cell_type": "code",
   "execution_count": null,
   "id": "18fa3bd9-dceb-452a-8a68-0cf954773952",
   "metadata": {},
   "outputs": [],
   "source": []
  },
  {
   "cell_type": "code",
   "execution_count": null,
   "id": "ffd04aee-9a93-44be-a4fd-8425fcfd9809",
   "metadata": {},
   "outputs": [],
   "source": []
  },
  {
   "cell_type": "code",
   "execution_count": null,
   "id": "cd899643-5975-4bab-9480-9819c9df4b44",
   "metadata": {},
   "outputs": [],
   "source": []
  }
 ],
 "metadata": {
  "kernelspec": {
   "display_name": "Python 3 (ipykernel)",
   "language": "python",
   "name": "python3"
  },
  "language_info": {
   "codemirror_mode": {
    "name": "ipython",
    "version": 3
   },
   "file_extension": ".py",
   "mimetype": "text/x-python",
   "name": "python",
   "nbconvert_exporter": "python",
   "pygments_lexer": "ipython3",
   "version": "3.10.8"
  }
 },
 "nbformat": 4,
 "nbformat_minor": 5
}
